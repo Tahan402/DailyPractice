{
  "nbformat": 4,
  "nbformat_minor": 0,
  "metadata": {
    "colab": {
      "provenance": [],
      "collapsed_sections": [],
      "authorship_tag": "ABX9TyOo86WRJtA6NTjcI+15S/RL",
      "include_colab_link": true
    },
    "kernelspec": {
      "name": "python3",
      "display_name": "Python 3"
    },
    "language_info": {
      "name": "python"
    }
  },
  "cells": [
    {
      "cell_type": "markdown",
      "metadata": {
        "id": "view-in-github",
        "colab_type": "text"
      },
      "source": [
        "<a href=\"https://colab.research.google.com/github/Tahan402/DailyPractice/blob/main/Lecture_10_Array_Transposition.ipynb\" target=\"_parent\"><img src=\"https://colab.research.google.com/assets/colab-badge.svg\" alt=\"Open In Colab\"/></a>"
      ]
    },
    {
      "cell_type": "code",
      "execution_count": 1,
      "metadata": {
        "id": "1o1mb0QDy_dB"
      },
      "outputs": [],
      "source": [
        "import numpy as np"
      ]
    },
    {
      "cell_type": "code",
      "source": [
        "arr = np.arange(50).reshape((10,5))"
      ],
      "metadata": {
        "id": "-0nTS4z3zJbe"
      },
      "execution_count": 2,
      "outputs": []
    },
    {
      "cell_type": "code",
      "source": [
        "arr"
      ],
      "metadata": {
        "colab": {
          "base_uri": "https://localhost:8080/"
        },
        "id": "kZWDcbgqzYvL",
        "outputId": "b6a3ea3a-4975-479c-f1e6-9176b5203db7"
      },
      "execution_count": 3,
      "outputs": [
        {
          "output_type": "execute_result",
          "data": {
            "text/plain": [
              "array([[ 0,  1,  2,  3,  4],\n",
              "       [ 5,  6,  7,  8,  9],\n",
              "       [10, 11, 12, 13, 14],\n",
              "       [15, 16, 17, 18, 19],\n",
              "       [20, 21, 22, 23, 24],\n",
              "       [25, 26, 27, 28, 29],\n",
              "       [30, 31, 32, 33, 34],\n",
              "       [35, 36, 37, 38, 39],\n",
              "       [40, 41, 42, 43, 44],\n",
              "       [45, 46, 47, 48, 49]])"
            ]
          },
          "metadata": {},
          "execution_count": 3
        }
      ]
    },
    {
      "cell_type": "code",
      "source": [
        "arr.T"
      ],
      "metadata": {
        "colab": {
          "base_uri": "https://localhost:8080/"
        },
        "id": "1vAU8HiwzZ2k",
        "outputId": "6cd27e20-5a8e-467a-fb8e-b67d0b3ae2d3"
      },
      "execution_count": 5,
      "outputs": [
        {
          "output_type": "execute_result",
          "data": {
            "text/plain": [
              "array([[ 0,  5, 10, 15, 20, 25, 30, 35, 40, 45],\n",
              "       [ 1,  6, 11, 16, 21, 26, 31, 36, 41, 46],\n",
              "       [ 2,  7, 12, 17, 22, 27, 32, 37, 42, 47],\n",
              "       [ 3,  8, 13, 18, 23, 28, 33, 38, 43, 48],\n",
              "       [ 4,  9, 14, 19, 24, 29, 34, 39, 44, 49]])"
            ]
          },
          "metadata": {},
          "execution_count": 5
        }
      ]
    },
    {
      "cell_type": "code",
      "source": [
        "np.dot(arr.T,arr)"
      ],
      "metadata": {
        "colab": {
          "base_uri": "https://localhost:8080/"
        },
        "id": "rsosSYS4zdcW",
        "outputId": "73f5a69e-3f9b-4c61-fb26-2b153cbd5913"
      },
      "execution_count": 6,
      "outputs": [
        {
          "output_type": "execute_result",
          "data": {
            "text/plain": [
              "array([[7125, 7350, 7575, 7800, 8025],\n",
              "       [7350, 7585, 7820, 8055, 8290],\n",
              "       [7575, 7820, 8065, 8310, 8555],\n",
              "       [7800, 8055, 8310, 8565, 8820],\n",
              "       [8025, 8290, 8555, 8820, 9085]])"
            ]
          },
          "metadata": {},
          "execution_count": 6
        }
      ]
    },
    {
      "cell_type": "code",
      "source": [
        "arr3d= np.arange(50).reshape((5,5,2))"
      ],
      "metadata": {
        "id": "yNDtptUozlMQ"
      },
      "execution_count": 7,
      "outputs": []
    },
    {
      "cell_type": "code",
      "source": [
        "arr3d"
      ],
      "metadata": {
        "colab": {
          "base_uri": "https://localhost:8080/"
        },
        "id": "27OMk1GyztRF",
        "outputId": "defb9374-32e1-4926-a756-0b7ec64eba93"
      },
      "execution_count": 8,
      "outputs": [
        {
          "output_type": "execute_result",
          "data": {
            "text/plain": [
              "array([[[ 0,  1],\n",
              "        [ 2,  3],\n",
              "        [ 4,  5],\n",
              "        [ 6,  7],\n",
              "        [ 8,  9]],\n",
              "\n",
              "       [[10, 11],\n",
              "        [12, 13],\n",
              "        [14, 15],\n",
              "        [16, 17],\n",
              "        [18, 19]],\n",
              "\n",
              "       [[20, 21],\n",
              "        [22, 23],\n",
              "        [24, 25],\n",
              "        [26, 27],\n",
              "        [28, 29]],\n",
              "\n",
              "       [[30, 31],\n",
              "        [32, 33],\n",
              "        [34, 35],\n",
              "        [36, 37],\n",
              "        [38, 39]],\n",
              "\n",
              "       [[40, 41],\n",
              "        [42, 43],\n",
              "        [44, 45],\n",
              "        [46, 47],\n",
              "        [48, 49]]])"
            ]
          },
          "metadata": {},
          "execution_count": 8
        }
      ]
    },
    {
      "cell_type": "code",
      "source": [
        "arr3d.transpose((1,0,2))"
      ],
      "metadata": {
        "colab": {
          "base_uri": "https://localhost:8080/"
        },
        "id": "AwEZD2TmzvnA",
        "outputId": "9f36014e-8cb0-4704-c837-47454c1c0067"
      },
      "execution_count": 9,
      "outputs": [
        {
          "output_type": "execute_result",
          "data": {
            "text/plain": [
              "array([[[ 0,  1],\n",
              "        [10, 11],\n",
              "        [20, 21],\n",
              "        [30, 31],\n",
              "        [40, 41]],\n",
              "\n",
              "       [[ 2,  3],\n",
              "        [12, 13],\n",
              "        [22, 23],\n",
              "        [32, 33],\n",
              "        [42, 43]],\n",
              "\n",
              "       [[ 4,  5],\n",
              "        [14, 15],\n",
              "        [24, 25],\n",
              "        [34, 35],\n",
              "        [44, 45]],\n",
              "\n",
              "       [[ 6,  7],\n",
              "        [16, 17],\n",
              "        [26, 27],\n",
              "        [36, 37],\n",
              "        [46, 47]],\n",
              "\n",
              "       [[ 8,  9],\n",
              "        [18, 19],\n",
              "        [28, 29],\n",
              "        [38, 39],\n",
              "        [48, 49]]])"
            ]
          },
          "metadata": {},
          "execution_count": 9
        }
      ]
    },
    {
      "cell_type": "code",
      "source": [
        "arr = np.array([[1,2,3]])\n",
        "arr"
      ],
      "metadata": {
        "colab": {
          "base_uri": "https://localhost:8080/"
        },
        "id": "Fh13pdx2z3Bl",
        "outputId": "1c6cb0d6-3d28-490b-c392-f86f5964802d"
      },
      "execution_count": 11,
      "outputs": [
        {
          "output_type": "execute_result",
          "data": {
            "text/plain": [
              "array([[1, 2, 3]])"
            ]
          },
          "metadata": {},
          "execution_count": 11
        }
      ]
    },
    {
      "cell_type": "code",
      "source": [
        "arr.swapaxes(0,1)"
      ],
      "metadata": {
        "colab": {
          "base_uri": "https://localhost:8080/"
        },
        "id": "SyxcQCLk0E42",
        "outputId": "05737651-9199-4696-e488-92c52593e19f"
      },
      "execution_count": 12,
      "outputs": [
        {
          "output_type": "execute_result",
          "data": {
            "text/plain": [
              "array([[1],\n",
              "       [2],\n",
              "       [3]])"
            ]
          },
          "metadata": {},
          "execution_count": 12
        }
      ]
    },
    {
      "cell_type": "code",
      "source": [],
      "metadata": {
        "id": "zQrsDQzB0M9O"
      },
      "execution_count": null,
      "outputs": []
    }
  ]
}