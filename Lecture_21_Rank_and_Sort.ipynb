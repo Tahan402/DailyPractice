{
  "nbformat": 4,
  "nbformat_minor": 0,
  "metadata": {
    "colab": {
      "provenance": [],
      "collapsed_sections": [],
      "authorship_tag": "ABX9TyPe33uS79aeGitLjpL0C/FG",
      "include_colab_link": true
    },
    "kernelspec": {
      "name": "python3",
      "display_name": "Python 3"
    },
    "language_info": {
      "name": "python"
    }
  },
  "cells": [
    {
      "cell_type": "markdown",
      "metadata": {
        "id": "view-in-github",
        "colab_type": "text"
      },
      "source": [
        "<a href=\"https://colab.research.google.com/github/Tahan402/DailyPractice/blob/main/Lecture_21_Rank_and_Sort.ipynb\" target=\"_parent\"><img src=\"https://colab.research.google.com/assets/colab-badge.svg\" alt=\"Open In Colab\"/></a>"
      ]
    },
    {
      "cell_type": "code",
      "execution_count": 1,
      "metadata": {
        "id": "ycfGTPR9AXMr"
      },
      "outputs": [],
      "source": [
        "import numpy as np\n",
        "import pandas as pd\n",
        "from pandas import Series , DataFrame"
      ]
    },
    {
      "cell_type": "code",
      "source": [
        "ser1 = Series(range(3), index = ['C','A','B'])"
      ],
      "metadata": {
        "id": "SrKkhrPsBXGC"
      },
      "execution_count": 2,
      "outputs": []
    },
    {
      "cell_type": "code",
      "source": [
        "ser1"
      ],
      "metadata": {
        "colab": {
          "base_uri": "https://localhost:8080/"
        },
        "id": "B6EsgW67B7cG",
        "outputId": "25fc0a30-b284-4ae7-a7d6-f5ad9d15fe34"
      },
      "execution_count": 3,
      "outputs": [
        {
          "output_type": "execute_result",
          "data": {
            "text/plain": [
              "C    0\n",
              "A    1\n",
              "B    2\n",
              "dtype: int64"
            ]
          },
          "metadata": {},
          "execution_count": 3
        }
      ]
    },
    {
      "cell_type": "code",
      "source": [
        "ser1.sort_index() # sort for index"
      ],
      "metadata": {
        "colab": {
          "base_uri": "https://localhost:8080/"
        },
        "id": "3SOx7nS4B77t",
        "outputId": "9c24682c-1512-44d9-a810-cfba34a0dadf"
      },
      "execution_count": 4,
      "outputs": [
        {
          "output_type": "execute_result",
          "data": {
            "text/plain": [
              "A    1\n",
              "B    2\n",
              "C    0\n",
              "dtype: int64"
            ]
          },
          "metadata": {},
          "execution_count": 4
        }
      ]
    },
    {
      "cell_type": "code",
      "source": [
        "ser1.sort_values() #sort for values"
      ],
      "metadata": {
        "colab": {
          "base_uri": "https://localhost:8080/"
        },
        "id": "kNbTXygUCAHB",
        "outputId": "4df13f3a-ac96-4cff-a99f-b18e11a26b3a"
      },
      "execution_count": 6,
      "outputs": [
        {
          "output_type": "execute_result",
          "data": {
            "text/plain": [
              "C    0\n",
              "A    1\n",
              "B    2\n",
              "dtype: int64"
            ]
          },
          "metadata": {},
          "execution_count": 6
        }
      ]
    },
    {
      "cell_type": "code",
      "source": [
        "from numpy.random import randn"
      ],
      "metadata": {
        "id": "31_0zI8cCJei"
      },
      "execution_count": 7,
      "outputs": []
    },
    {
      "cell_type": "code",
      "source": [
        "ser2 = Series(randn(10))"
      ],
      "metadata": {
        "id": "qXmgqd2DCp8v"
      },
      "execution_count": 8,
      "outputs": []
    },
    {
      "cell_type": "code",
      "source": [
        "ser2"
      ],
      "metadata": {
        "colab": {
          "base_uri": "https://localhost:8080/"
        },
        "id": "0O9a7e_JCuUC",
        "outputId": "6c2377c7-50f2-4c2d-b865-f2cf766c9c7f"
      },
      "execution_count": 9,
      "outputs": [
        {
          "output_type": "execute_result",
          "data": {
            "text/plain": [
              "0   -0.563401\n",
              "1   -1.535261\n",
              "2   -0.728370\n",
              "3   -0.393508\n",
              "4   -0.305637\n",
              "5   -0.384674\n",
              "6   -0.451096\n",
              "7   -0.091496\n",
              "8    0.432418\n",
              "9   -0.012198\n",
              "dtype: float64"
            ]
          },
          "metadata": {},
          "execution_count": 9
        }
      ]
    },
    {
      "cell_type": "code",
      "source": [
        "ser2.sort_values()"
      ],
      "metadata": {
        "colab": {
          "base_uri": "https://localhost:8080/"
        },
        "id": "ytxiAb9WCvrP",
        "outputId": "cb9c968f-7748-4ec5-e3c0-fc8fa59f2971"
      },
      "execution_count": 11,
      "outputs": [
        {
          "output_type": "execute_result",
          "data": {
            "text/plain": [
              "1   -1.535261\n",
              "2   -0.728370\n",
              "0   -0.563401\n",
              "6   -0.451096\n",
              "3   -0.393508\n",
              "5   -0.384674\n",
              "4   -0.305637\n",
              "7   -0.091496\n",
              "9   -0.012198\n",
              "8    0.432418\n",
              "dtype: float64"
            ]
          },
          "metadata": {},
          "execution_count": 11
        }
      ]
    },
    {
      "cell_type": "code",
      "source": [
        "ser2.rank()"
      ],
      "metadata": {
        "colab": {
          "base_uri": "https://localhost:8080/"
        },
        "id": "Hjn8BbkRCyT9",
        "outputId": "85bc16c2-bbc4-4f4f-d107-61415549d957"
      },
      "execution_count": 12,
      "outputs": [
        {
          "output_type": "execute_result",
          "data": {
            "text/plain": [
              "0     3.0\n",
              "1     1.0\n",
              "2     2.0\n",
              "3     5.0\n",
              "4     7.0\n",
              "5     6.0\n",
              "6     4.0\n",
              "7     8.0\n",
              "8    10.0\n",
              "9     9.0\n",
              "dtype: float64"
            ]
          },
          "metadata": {},
          "execution_count": 12
        }
      ]
    },
    {
      "cell_type": "code",
      "source": [
        "ser3 = Series(randn(10))\n",
        "\n",
        "ser3"
      ],
      "metadata": {
        "colab": {
          "base_uri": "https://localhost:8080/"
        },
        "id": "blwBNgPZDuUs",
        "outputId": "2f5b1fc6-b696-4ab0-ae47-2fb8b58b3c75"
      },
      "execution_count": 13,
      "outputs": [
        {
          "output_type": "execute_result",
          "data": {
            "text/plain": [
              "0   -2.057017\n",
              "1    0.871995\n",
              "2    0.070756\n",
              "3   -0.030097\n",
              "4    1.092545\n",
              "5   -1.045574\n",
              "6   -0.236011\n",
              "7    1.202772\n",
              "8   -1.950264\n",
              "9    0.936967\n",
              "dtype: float64"
            ]
          },
          "metadata": {},
          "execution_count": 13
        }
      ]
    },
    {
      "cell_type": "code",
      "source": [
        "ser3.rank()"
      ],
      "metadata": {
        "colab": {
          "base_uri": "https://localhost:8080/"
        },
        "id": "CMKSNYtCEHJe",
        "outputId": "5af33586-b2f6-469b-8d47-1b8444e938cc"
      },
      "execution_count": 14,
      "outputs": [
        {
          "output_type": "execute_result",
          "data": {
            "text/plain": [
              "0     1.0\n",
              "1     7.0\n",
              "2     6.0\n",
              "3     5.0\n",
              "4     9.0\n",
              "5     3.0\n",
              "6     4.0\n",
              "7    10.0\n",
              "8     2.0\n",
              "9     8.0\n",
              "dtype: float64"
            ]
          },
          "metadata": {},
          "execution_count": 14
        }
      ]
    },
    {
      "cell_type": "code",
      "source": [
        "ser3.sort_values()\n",
        "ser3.rank()"
      ],
      "metadata": {
        "colab": {
          "base_uri": "https://localhost:8080/"
        },
        "id": "Wg6CERfcEImo",
        "outputId": "692a5b3d-9bc1-4ab0-b946-99e4894e8726"
      },
      "execution_count": 15,
      "outputs": [
        {
          "output_type": "execute_result",
          "data": {
            "text/plain": [
              "0     1.0\n",
              "1     7.0\n",
              "2     6.0\n",
              "3     5.0\n",
              "4     9.0\n",
              "5     3.0\n",
              "6     4.0\n",
              "7    10.0\n",
              "8     2.0\n",
              "9     8.0\n",
              "dtype: float64"
            ]
          },
          "metadata": {},
          "execution_count": 15
        }
      ]
    },
    {
      "cell_type": "code",
      "source": [],
      "metadata": {
        "id": "caiHtHSgEUqG"
      },
      "execution_count": null,
      "outputs": []
    }
  ]
}