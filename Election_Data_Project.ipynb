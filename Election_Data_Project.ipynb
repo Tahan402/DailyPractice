{
  "nbformat": 4,
  "nbformat_minor": 0,
  "metadata": {
    "colab": {
      "provenance": [],
      "collapsed_sections": [],
      "authorship_tag": "ABX9TyOnRzwk1iZV8VoaIO//dytR",
      "include_colab_link": true
    },
    "kernelspec": {
      "name": "python3",
      "display_name": "Python 3"
    },
    "language_info": {
      "name": "python"
    }
  },
  "cells": [
    {
      "cell_type": "markdown",
      "metadata": {
        "id": "view-in-github",
        "colab_type": "text"
      },
      "source": [
        "<a href=\"https://colab.research.google.com/github/Tahan402/DailyPractice/blob/main/Election_Data_Project.ipynb\" target=\"_parent\"><img src=\"https://colab.research.google.com/assets/colab-badge.svg\" alt=\"Open In Colab\"/></a>"
      ]
    },
    {
      "cell_type": "markdown",
      "source": [
        "# Election Data Project - Polls and Donors"
      ],
      "metadata": {
        "id": "cz2k1GjogN5Y"
      }
    },
    {
      "cell_type": "markdown",
      "source": [
        "In this Data Project we will be looking at data from the 2012 election.\n",
        "\n",
        "In this project we will analyze two datasets. The first data set will be the results of political polls. We will analyze this aggregated poll data and answer some questions:\n",
        "\n",
        "1.) Who was being polled and what was their party affiliation?\n",
        "\n",
        "\n",
        "2.) Did the poll results favor Romney or Obama?\n",
        "\n",
        "\n",
        "3.) How do undecided voters effect the poll?\n",
        "\n",
        "\n",
        "4.) Can we account for the undecided voters?\n",
        "\n",
        "\n",
        "5.) How did voter sentiment change over time?\n",
        "\n",
        "\n",
        "6.) Can we see an effect in the polls from the debates?\n",
        "\n",
        "\n",
        "We'll discuss the second data set later on!\n",
        "\n",
        "Let's go ahead and start with our standard imports:"
      ],
      "metadata": {
        "id": "E6mtzHbkgSeF"
      }
    },
    {
      "cell_type": "code",
      "execution_count": 2,
      "metadata": {
        "id": "RCVuDb7igDI8"
      },
      "outputs": [],
      "source": [
        "# For data\n",
        "import pandas as pd\n",
        "\n",
        "import numpy as np\n",
        "\n",
        "# For visualization\n",
        "import matplotlib.pyplot as plt\n",
        "import seaborn as sns\n",
        "sns.set_style('whitegrid')\n",
        "%matplotlib inline\n",
        "\n",
        "#from __future__ import division"
      ]
    },
    {
      "cell_type": "markdown",
      "source": [
        "The data for the polls will be obtained from HuffPost Pollster. You can check their website here. There are some pretty awesome politcal data stes to play with there so I encourage you to go and mess around with it yourself after completing this project.\n",
        "\n",
        "We're going to use the requests module to import some data from the web. For more information on requests, check out the documentation here.\n",
        "\n",
        "We will also be using StringIO to work with csv data we get from HuffPost. StringIO provides a convenient means of working with text in memory using the file API, find out more about it here"
      ],
      "metadata": {
        "id": "LyN5YYwWgvL5"
      }
    },
    {
      "cell_type": "code",
      "source": [
        "# Use to grab data from the web(HTTP capabilities)\n",
        "import requests\n",
        "\n",
        "# We'll also use StringIO to work with the csv file, the DataFrame will require a .read() method\n",
        "from io import StringIO "
      ],
      "metadata": {
        "id": "PgZoPnMpggoN"
      },
      "execution_count": 6,
      "outputs": []
    },
    {
      "cell_type": "code",
      "source": [
        "# This is the url link for the poll data in csv form\n",
        "url = \"http://elections.huffingtonpost.com/pollster/2012-general-election-romney-vs-obama.csv\"\n",
        "\n",
        "# Use requests to get the information in text form\n",
        "source = requests.get(url).text\n",
        "\n",
        "# Use StringIO to avoid an IO error with pandas\n",
        "poll_data = StringIO(source) "
      ],
      "metadata": {
        "id": "K-4-VbbIgzo9"
      },
      "execution_count": 7,
      "outputs": []
    },
    {
      "cell_type": "markdown",
      "source": [
        "Now that we have our data, we can set it as a DataFrame."
      ],
      "metadata": {
        "id": "YXzLOlgPh2rj"
      }
    },
    {
      "cell_type": "code",
      "source": [
        "# Set poll data as pandas DataFrame\n",
        "poll_df = pd.read_csv(poll_data)\n",
        "\n",
        "# Let's get a glimpse at the data\n",
        "poll_df.info()"
      ],
      "metadata": {
        "colab": {
          "base_uri": "https://localhost:8080/"
        },
        "id": "xpav_lY5hzsV",
        "outputId": "48bd67d5-c6b9-4406-c40e-64e8265a53f8"
      },
      "execution_count": 8,
      "outputs": [
        {
          "output_type": "stream",
          "name": "stdout",
          "text": [
            "<class 'pandas.core.frame.DataFrame'>\n",
            "RangeIndex: 586 entries, 0 to 585\n",
            "Data columns (total 17 columns):\n",
            " #   Column                  Non-Null Count  Dtype  \n",
            "---  ------                  --------------  -----  \n",
            " 0   Pollster                586 non-null    object \n",
            " 1   Start Date              586 non-null    object \n",
            " 2   End Date                586 non-null    object \n",
            " 3   Entry Date/Time (ET)    586 non-null    object \n",
            " 4   Number of Observations  564 non-null    float64\n",
            " 5   Population              586 non-null    object \n",
            " 6   Mode                    586 non-null    object \n",
            " 7   Obama                   586 non-null    float64\n",
            " 8   Romney                  586 non-null    float64\n",
            " 9   Undecided               423 non-null    float64\n",
            " 10  Other                   202 non-null    float64\n",
            " 11  Pollster URL            586 non-null    object \n",
            " 12  Source URL              584 non-null    object \n",
            " 13  Partisan                586 non-null    object \n",
            " 14  Affiliation             586 non-null    object \n",
            " 15  Question Text           0 non-null      float64\n",
            " 16  Question Iteration      586 non-null    int64  \n",
            "dtypes: float64(6), int64(1), object(10)\n",
            "memory usage: 78.0+ KB\n"
          ]
        }
      ]
    },
    {
      "cell_type": "code",
      "source": [
        "poll_df.head()"
      ],
      "metadata": {
        "colab": {
          "base_uri": "https://localhost:8080/",
          "height": 392
        },
        "id": "nzY1BXIih6ze",
        "outputId": "c7059329-1980-4311-d914-aed1036dc6fc"
      },
      "execution_count": 9,
      "outputs": [
        {
          "output_type": "execute_result",
          "data": {
            "text/plain": [
              "                    Pollster  Start Date    End Date  Entry Date/Time (ET)  \\\n",
              "0  Politico/GWU/Battleground  2012-11-04  2012-11-05  2012-11-06T08:40:26Z   \n",
              "1           YouGov/Economist  2012-11-03  2012-11-05  2012-11-26T15:31:23Z   \n",
              "2           Gravis Marketing  2012-11-03  2012-11-05  2012-11-06T09:22:02Z   \n",
              "3                   IBD/TIPP  2012-11-03  2012-11-05  2012-11-06T08:51:48Z   \n",
              "4                  Rasmussen  2012-11-03  2012-11-05  2012-11-06T08:47:50Z   \n",
              "\n",
              "   Number of Observations     Population             Mode  Obama  Romney  \\\n",
              "0                  1000.0  Likely Voters       Live Phone   47.0    47.0   \n",
              "1                   740.0  Likely Voters         Internet   49.0    47.0   \n",
              "2                   872.0  Likely Voters  Automated Phone   48.0    48.0   \n",
              "3                   712.0  Likely Voters       Live Phone   50.0    49.0   \n",
              "4                  1500.0  Likely Voters  Automated Phone   48.0    49.0   \n",
              "\n",
              "   Undecided  Other                                       Pollster URL  \\\n",
              "0        6.0    NaN  https://elections.huffingtonpost.com/pollster/...   \n",
              "1        3.0    NaN  https://elections.huffingtonpost.com/pollster/...   \n",
              "2        4.0    NaN  https://elections.huffingtonpost.com/pollster/...   \n",
              "3        NaN    1.0  https://elections.huffingtonpost.com/pollster/...   \n",
              "4        NaN    NaN  https://elections.huffingtonpost.com/pollster/...   \n",
              "\n",
              "                                          Source URL     Partisan Affiliation  \\\n",
              "0  http://www.politico.com/news/stories/1112/8338...  Nonpartisan        None   \n",
              "1  http://cdn.yougov.com/cumulus_uploads/document...  Nonpartisan        None   \n",
              "2  http://www.gravispolls.com/2012/11/gravis-mark...  Nonpartisan        None   \n",
              "3  http://news.investors.com/special-report/50841...  Nonpartisan        None   \n",
              "4  http://www.rasmussenreports.com/public_content...  Nonpartisan        None   \n",
              "\n",
              "   Question Text  Question Iteration  \n",
              "0            NaN                   1  \n",
              "1            NaN                   1  \n",
              "2            NaN                   1  \n",
              "3            NaN                   1  \n",
              "4            NaN                   1  "
            ],
            "text/html": [
              "\n",
              "  <div id=\"df-b7cefdf6-6464-43bc-b719-395bb6a109c4\">\n",
              "    <div class=\"colab-df-container\">\n",
              "      <div>\n",
              "<style scoped>\n",
              "    .dataframe tbody tr th:only-of-type {\n",
              "        vertical-align: middle;\n",
              "    }\n",
              "\n",
              "    .dataframe tbody tr th {\n",
              "        vertical-align: top;\n",
              "    }\n",
              "\n",
              "    .dataframe thead th {\n",
              "        text-align: right;\n",
              "    }\n",
              "</style>\n",
              "<table border=\"1\" class=\"dataframe\">\n",
              "  <thead>\n",
              "    <tr style=\"text-align: right;\">\n",
              "      <th></th>\n",
              "      <th>Pollster</th>\n",
              "      <th>Start Date</th>\n",
              "      <th>End Date</th>\n",
              "      <th>Entry Date/Time (ET)</th>\n",
              "      <th>Number of Observations</th>\n",
              "      <th>Population</th>\n",
              "      <th>Mode</th>\n",
              "      <th>Obama</th>\n",
              "      <th>Romney</th>\n",
              "      <th>Undecided</th>\n",
              "      <th>Other</th>\n",
              "      <th>Pollster URL</th>\n",
              "      <th>Source URL</th>\n",
              "      <th>Partisan</th>\n",
              "      <th>Affiliation</th>\n",
              "      <th>Question Text</th>\n",
              "      <th>Question Iteration</th>\n",
              "    </tr>\n",
              "  </thead>\n",
              "  <tbody>\n",
              "    <tr>\n",
              "      <th>0</th>\n",
              "      <td>Politico/GWU/Battleground</td>\n",
              "      <td>2012-11-04</td>\n",
              "      <td>2012-11-05</td>\n",
              "      <td>2012-11-06T08:40:26Z</td>\n",
              "      <td>1000.0</td>\n",
              "      <td>Likely Voters</td>\n",
              "      <td>Live Phone</td>\n",
              "      <td>47.0</td>\n",
              "      <td>47.0</td>\n",
              "      <td>6.0</td>\n",
              "      <td>NaN</td>\n",
              "      <td>https://elections.huffingtonpost.com/pollster/...</td>\n",
              "      <td>http://www.politico.com/news/stories/1112/8338...</td>\n",
              "      <td>Nonpartisan</td>\n",
              "      <td>None</td>\n",
              "      <td>NaN</td>\n",
              "      <td>1</td>\n",
              "    </tr>\n",
              "    <tr>\n",
              "      <th>1</th>\n",
              "      <td>YouGov/Economist</td>\n",
              "      <td>2012-11-03</td>\n",
              "      <td>2012-11-05</td>\n",
              "      <td>2012-11-26T15:31:23Z</td>\n",
              "      <td>740.0</td>\n",
              "      <td>Likely Voters</td>\n",
              "      <td>Internet</td>\n",
              "      <td>49.0</td>\n",
              "      <td>47.0</td>\n",
              "      <td>3.0</td>\n",
              "      <td>NaN</td>\n",
              "      <td>https://elections.huffingtonpost.com/pollster/...</td>\n",
              "      <td>http://cdn.yougov.com/cumulus_uploads/document...</td>\n",
              "      <td>Nonpartisan</td>\n",
              "      <td>None</td>\n",
              "      <td>NaN</td>\n",
              "      <td>1</td>\n",
              "    </tr>\n",
              "    <tr>\n",
              "      <th>2</th>\n",
              "      <td>Gravis Marketing</td>\n",
              "      <td>2012-11-03</td>\n",
              "      <td>2012-11-05</td>\n",
              "      <td>2012-11-06T09:22:02Z</td>\n",
              "      <td>872.0</td>\n",
              "      <td>Likely Voters</td>\n",
              "      <td>Automated Phone</td>\n",
              "      <td>48.0</td>\n",
              "      <td>48.0</td>\n",
              "      <td>4.0</td>\n",
              "      <td>NaN</td>\n",
              "      <td>https://elections.huffingtonpost.com/pollster/...</td>\n",
              "      <td>http://www.gravispolls.com/2012/11/gravis-mark...</td>\n",
              "      <td>Nonpartisan</td>\n",
              "      <td>None</td>\n",
              "      <td>NaN</td>\n",
              "      <td>1</td>\n",
              "    </tr>\n",
              "    <tr>\n",
              "      <th>3</th>\n",
              "      <td>IBD/TIPP</td>\n",
              "      <td>2012-11-03</td>\n",
              "      <td>2012-11-05</td>\n",
              "      <td>2012-11-06T08:51:48Z</td>\n",
              "      <td>712.0</td>\n",
              "      <td>Likely Voters</td>\n",
              "      <td>Live Phone</td>\n",
              "      <td>50.0</td>\n",
              "      <td>49.0</td>\n",
              "      <td>NaN</td>\n",
              "      <td>1.0</td>\n",
              "      <td>https://elections.huffingtonpost.com/pollster/...</td>\n",
              "      <td>http://news.investors.com/special-report/50841...</td>\n",
              "      <td>Nonpartisan</td>\n",
              "      <td>None</td>\n",
              "      <td>NaN</td>\n",
              "      <td>1</td>\n",
              "    </tr>\n",
              "    <tr>\n",
              "      <th>4</th>\n",
              "      <td>Rasmussen</td>\n",
              "      <td>2012-11-03</td>\n",
              "      <td>2012-11-05</td>\n",
              "      <td>2012-11-06T08:47:50Z</td>\n",
              "      <td>1500.0</td>\n",
              "      <td>Likely Voters</td>\n",
              "      <td>Automated Phone</td>\n",
              "      <td>48.0</td>\n",
              "      <td>49.0</td>\n",
              "      <td>NaN</td>\n",
              "      <td>NaN</td>\n",
              "      <td>https://elections.huffingtonpost.com/pollster/...</td>\n",
              "      <td>http://www.rasmussenreports.com/public_content...</td>\n",
              "      <td>Nonpartisan</td>\n",
              "      <td>None</td>\n",
              "      <td>NaN</td>\n",
              "      <td>1</td>\n",
              "    </tr>\n",
              "  </tbody>\n",
              "</table>\n",
              "</div>\n",
              "      <button class=\"colab-df-convert\" onclick=\"convertToInteractive('df-b7cefdf6-6464-43bc-b719-395bb6a109c4')\"\n",
              "              title=\"Convert this dataframe to an interactive table.\"\n",
              "              style=\"display:none;\">\n",
              "        \n",
              "  <svg xmlns=\"http://www.w3.org/2000/svg\" height=\"24px\"viewBox=\"0 0 24 24\"\n",
              "       width=\"24px\">\n",
              "    <path d=\"M0 0h24v24H0V0z\" fill=\"none\"/>\n",
              "    <path d=\"M18.56 5.44l.94 2.06.94-2.06 2.06-.94-2.06-.94-.94-2.06-.94 2.06-2.06.94zm-11 1L8.5 8.5l.94-2.06 2.06-.94-2.06-.94L8.5 2.5l-.94 2.06-2.06.94zm10 10l.94 2.06.94-2.06 2.06-.94-2.06-.94-.94-2.06-.94 2.06-2.06.94z\"/><path d=\"M17.41 7.96l-1.37-1.37c-.4-.4-.92-.59-1.43-.59-.52 0-1.04.2-1.43.59L10.3 9.45l-7.72 7.72c-.78.78-.78 2.05 0 2.83L4 21.41c.39.39.9.59 1.41.59.51 0 1.02-.2 1.41-.59l7.78-7.78 2.81-2.81c.8-.78.8-2.07 0-2.86zM5.41 20L4 18.59l7.72-7.72 1.47 1.35L5.41 20z\"/>\n",
              "  </svg>\n",
              "      </button>\n",
              "      \n",
              "  <style>\n",
              "    .colab-df-container {\n",
              "      display:flex;\n",
              "      flex-wrap:wrap;\n",
              "      gap: 12px;\n",
              "    }\n",
              "\n",
              "    .colab-df-convert {\n",
              "      background-color: #E8F0FE;\n",
              "      border: none;\n",
              "      border-radius: 50%;\n",
              "      cursor: pointer;\n",
              "      display: none;\n",
              "      fill: #1967D2;\n",
              "      height: 32px;\n",
              "      padding: 0 0 0 0;\n",
              "      width: 32px;\n",
              "    }\n",
              "\n",
              "    .colab-df-convert:hover {\n",
              "      background-color: #E2EBFA;\n",
              "      box-shadow: 0px 1px 2px rgba(60, 64, 67, 0.3), 0px 1px 3px 1px rgba(60, 64, 67, 0.15);\n",
              "      fill: #174EA6;\n",
              "    }\n",
              "\n",
              "    [theme=dark] .colab-df-convert {\n",
              "      background-color: #3B4455;\n",
              "      fill: #D2E3FC;\n",
              "    }\n",
              "\n",
              "    [theme=dark] .colab-df-convert:hover {\n",
              "      background-color: #434B5C;\n",
              "      box-shadow: 0px 1px 3px 1px rgba(0, 0, 0, 0.15);\n",
              "      filter: drop-shadow(0px 1px 2px rgba(0, 0, 0, 0.3));\n",
              "      fill: #FFFFFF;\n",
              "    }\n",
              "  </style>\n",
              "\n",
              "      <script>\n",
              "        const buttonEl =\n",
              "          document.querySelector('#df-b7cefdf6-6464-43bc-b719-395bb6a109c4 button.colab-df-convert');\n",
              "        buttonEl.style.display =\n",
              "          google.colab.kernel.accessAllowed ? 'block' : 'none';\n",
              "\n",
              "        async function convertToInteractive(key) {\n",
              "          const element = document.querySelector('#df-b7cefdf6-6464-43bc-b719-395bb6a109c4');\n",
              "          const dataTable =\n",
              "            await google.colab.kernel.invokeFunction('convertToInteractive',\n",
              "                                                     [key], {});\n",
              "          if (!dataTable) return;\n",
              "\n",
              "          const docLinkHtml = 'Like what you see? Visit the ' +\n",
              "            '<a target=\"_blank\" href=https://colab.research.google.com/notebooks/data_table.ipynb>data table notebook</a>'\n",
              "            + ' to learn more about interactive tables.';\n",
              "          element.innerHTML = '';\n",
              "          dataTable['output_type'] = 'display_data';\n",
              "          await google.colab.output.renderOutput(dataTable, element);\n",
              "          const docLink = document.createElement('div');\n",
              "          docLink.innerHTML = docLinkHtml;\n",
              "          element.appendChild(docLink);\n",
              "        }\n",
              "      </script>\n",
              "    </div>\n",
              "  </div>\n",
              "  "
            ]
          },
          "metadata": {},
          "execution_count": 9
        }
      ]
    },
    {
      "cell_type": "code",
      "source": [
        "sns.catplot(x='Affiliation',kind = 'count', data = poll_df)"
      ],
      "metadata": {
        "colab": {
          "base_uri": "https://localhost:8080/",
          "height": 386
        },
        "id": "CfqJaD_6jvn4",
        "outputId": "7d6bf0cf-7968-448a-e8d0-5f17b6153044"
      },
      "execution_count": 10,
      "outputs": [
        {
          "output_type": "execute_result",
          "data": {
            "text/plain": [
              "<seaborn.axisgrid.FacetGrid at 0x7f75b1273410>"
            ]
          },
          "metadata": {},
          "execution_count": 10
        },
        {
          "output_type": "display_data",
          "data": {
            "text/plain": [
              "<Figure size 360x360 with 1 Axes>"
            ],
            "image/png": "[encoded data removed]"
          },
          "metadata": {
            "needs_background": "light"
          }
        }
      ]
    },
    {
      "cell_type": "code",
      "source": [
        "sns.catplot(x='Affiliation', kind = 'count',data=poll_df,hue = 'Population')"
      ],
      "metadata": {
        "colab": {
          "base_uri": "https://localhost:8080/",
          "height": 386
        },
        "id": "hEPC0nZ2kOhR",
        "outputId": "f4d2b83f-8ae4-4a0c-cafd-15d15f1c2f41"
      },
      "execution_count": 11,
      "outputs": [
        {
          "output_type": "execute_result",
          "data": {
            "text/plain": [
              "<seaborn.axisgrid.FacetGrid at 0x7f75b1ff55d0>"
            ]
          },
          "metadata": {},
          "execution_count": 11
        },
        {
          "output_type": "display_data",
          "data": {
            "text/plain": [
              "<Figure size 524.25x360 with 1 Axes>"
            ],
            "image/png": "[encoded data removed]"
          },
          "metadata": {
            "needs_background": "light"
          }
        }
      ]
    },
    {
      "cell_type": "code",
      "source": [
        "poll_df.head()"
      ],
      "metadata": {
        "colab": {
          "base_uri": "https://localhost:8080/",
          "height": 392
        },
        "id": "qhMcG44Ekdlx",
        "outputId": "96722a8c-b65c-46d5-991a-b61064f6e106"
      },
      "execution_count": 12,
      "outputs": [
        {
          "output_type": "execute_result",
          "data": {
            "text/plain": [
              "                    Pollster  Start Date    End Date  Entry Date/Time (ET)  \\\n",
              "0  Politico/GWU/Battleground  2012-11-04  2012-11-05  2012-11-06T08:40:26Z   \n",
              "1           YouGov/Economist  2012-11-03  2012-11-05  2012-11-26T15:31:23Z   \n",
              "2           Gravis Marketing  2012-11-03  2012-11-05  2012-11-06T09:22:02Z   \n",
              "3                   IBD/TIPP  2012-11-03  2012-11-05  2012-11-06T08:51:48Z   \n",
              "4                  Rasmussen  2012-11-03  2012-11-05  2012-11-06T08:47:50Z   \n",
              "\n",
              "   Number of Observations     Population             Mode  Obama  Romney  \\\n",
              "0                  1000.0  Likely Voters       Live Phone   47.0    47.0   \n",
              "1                   740.0  Likely Voters         Internet   49.0    47.0   \n",
              "2                   872.0  Likely Voters  Automated Phone   48.0    48.0   \n",
              "3                   712.0  Likely Voters       Live Phone   50.0    49.0   \n",
              "4                  1500.0  Likely Voters  Automated Phone   48.0    49.0   \n",
              "\n",
              "   Undecided  Other                                       Pollster URL  \\\n",
              "0        6.0    NaN  https://elections.huffingtonpost.com/pollster/...   \n",
              "1        3.0    NaN  https://elections.huffingtonpost.com/pollster/...   \n",
              "2        4.0    NaN  https://elections.huffingtonpost.com/pollster/...   \n",
              "3        NaN    1.0  https://elections.huffingtonpost.com/pollster/...   \n",
              "4        NaN    NaN  https://elections.huffingtonpost.com/pollster/...   \n",
              "\n",
              "                                          Source URL     Partisan Affiliation  \\\n",
              "0  http://www.politico.com/news/stories/1112/8338...  Nonpartisan        None   \n",
              "1  http://cdn.yougov.com/cumulus_uploads/document...  Nonpartisan        None   \n",
              "2  http://www.gravispolls.com/2012/11/gravis-mark...  Nonpartisan        None   \n",
              "3  http://news.investors.com/special-report/50841...  Nonpartisan        None   \n",
              "4  http://www.rasmussenreports.com/public_content...  Nonpartisan        None   \n",
              "\n",
              "   Question Text  Question Iteration  \n",
              "0            NaN                   1  \n",
              "1            NaN                   1  \n",
              "2            NaN                   1  \n",
              "3            NaN                   1  \n",
              "4            NaN                   1  "
            ],
            "text/html": [
              "\n",
              "  <div id=\"df-f92b4fc1-abe5-4224-bd56-497f74d18ee0\">\n",
              "    <div class=\"colab-df-container\">\n",
              "      <div>\n",
              "<style scoped>\n",
              "    .dataframe tbody tr th:only-of-type {\n",
              "        vertical-align: middle;\n",
              "    }\n",
              "\n",
              "    .dataframe tbody tr th {\n",
              "        vertical-align: top;\n",
              "    }\n",
              "\n",
              "    .dataframe thead th {\n",
              "        text-align: right;\n",
              "    }\n",
              "</style>\n",
              "<table border=\"1\" class=\"dataframe\">\n",
              "  <thead>\n",
              "    <tr style=\"text-align: right;\">\n",
              "      <th></th>\n",
              "      <th>Pollster</th>\n",
              "      <th>Start Date</th>\n",
              "      <th>End Date</th>\n",
              "      <th>Entry Date/Time (ET)</th>\n",
              "      <th>Number of Observations</th>\n",
              "      <th>Population</th>\n",
              "      <th>Mode</th>\n",
              "      <th>Obama</th>\n",
              "      <th>Romney</th>\n",
              "      <th>Undecided</th>\n",
              "      <th>Other</th>\n",
              "      <th>Pollster URL</th>\n",
              "      <th>Source URL</th>\n",
              "      <th>Partisan</th>\n",
              "      <th>Affiliation</th>\n",
              "      <th>Question Text</th>\n",
              "      <th>Question Iteration</th>\n",
              "    </tr>\n",
              "  </thead>\n",
              "  <tbody>\n",
              "    <tr>\n",
              "      <th>0</th>\n",
              "      <td>Politico/GWU/Battleground</td>\n",
              "      <td>2012-11-04</td>\n",
              "      <td>2012-11-05</td>\n",
              "      <td>2012-11-06T08:40:26Z</td>\n",
              "      <td>1000.0</td>\n",
              "      <td>Likely Voters</td>\n",
              "      <td>Live Phone</td>\n",
              "      <td>47.0</td>\n",
              "      <td>47.0</td>\n",
              "      <td>6.0</td>\n",
              "      <td>NaN</td>\n",
              "      <td>https://elections.huffingtonpost.com/pollster/...</td>\n",
              "      <td>http://www.politico.com/news/stories/1112/8338...</td>\n",
              "      <td>Nonpartisan</td>\n",
              "      <td>None</td>\n",
              "      <td>NaN</td>\n",
              "      <td>1</td>\n",
              "    </tr>\n",
              "    <tr>\n",
              "      <th>1</th>\n",
              "      <td>YouGov/Economist</td>\n",
              "      <td>2012-11-03</td>\n",
              "      <td>2012-11-05</td>\n",
              "      <td>2012-11-26T15:31:23Z</td>\n",
              "      <td>740.0</td>\n",
              "      <td>Likely Voters</td>\n",
              "      <td>Internet</td>\n",
              "      <td>49.0</td>\n",
              "      <td>47.0</td>\n",
              "      <td>3.0</td>\n",
              "      <td>NaN</td>\n",
              "      <td>https://elections.huffingtonpost.com/pollster/...</td>\n",
              "      <td>http://cdn.yougov.com/cumulus_uploads/document...</td>\n",
              "      <td>Nonpartisan</td>\n",
              "      <td>None</td>\n",
              "      <td>NaN</td>\n",
              "      <td>1</td>\n",
              "    </tr>\n",
              "    <tr>\n",
              "      <th>2</th>\n",
              "      <td>Gravis Marketing</td>\n",
              "      <td>2012-11-03</td>\n",
              "      <td>2012-11-05</td>\n",
              "      <td>2012-11-06T09:22:02Z</td>\n",
              "      <td>872.0</td>\n",
              "      <td>Likely Voters</td>\n",
              "      <td>Automated Phone</td>\n",
              "      <td>48.0</td>\n",
              "      <td>48.0</td>\n",
              "      <td>4.0</td>\n",
              "      <td>NaN</td>\n",
              "      <td>https://elections.huffingtonpost.com/pollster/...</td>\n",
              "      <td>http://www.gravispolls.com/2012/11/gravis-mark...</td>\n",
              "      <td>Nonpartisan</td>\n",
              "      <td>None</td>\n",
              "      <td>NaN</td>\n",
              "      <td>1</td>\n",
              "    </tr>\n",
              "    <tr>\n",
              "      <th>3</th>\n",
              "      <td>IBD/TIPP</td>\n",
              "      <td>2012-11-03</td>\n",
              "      <td>2012-11-05</td>\n",
              "      <td>2012-11-06T08:51:48Z</td>\n",
              "      <td>712.0</td>\n",
              "      <td>Likely Voters</td>\n",
              "      <td>Live Phone</td>\n",
              "      <td>50.0</td>\n",
              "      <td>49.0</td>\n",
              "      <td>NaN</td>\n",
              "      <td>1.0</td>\n",
              "      <td>https://elections.huffingtonpost.com/pollster/...</td>\n",
              "      <td>http://news.investors.com/special-report/50841...</td>\n",
              "      <td>Nonpartisan</td>\n",
              "      <td>None</td>\n",
              "      <td>NaN</td>\n",
              "      <td>1</td>\n",
              "    </tr>\n",
              "    <tr>\n",
              "      <th>4</th>\n",
              "      <td>Rasmussen</td>\n",
              "      <td>2012-11-03</td>\n",
              "      <td>2012-11-05</td>\n",
              "      <td>2012-11-06T08:47:50Z</td>\n",
              "      <td>1500.0</td>\n",
              "      <td>Likely Voters</td>\n",
              "      <td>Automated Phone</td>\n",
              "      <td>48.0</td>\n",
              "      <td>49.0</td>\n",
              "      <td>NaN</td>\n",
              "      <td>NaN</td>\n",
              "      <td>https://elections.huffingtonpost.com/pollster/...</td>\n",
              "      <td>http://www.rasmussenreports.com/public_content...</td>\n",
              "      <td>Nonpartisan</td>\n",
              "      <td>None</td>\n",
              "      <td>NaN</td>\n",
              "      <td>1</td>\n",
              "    </tr>\n",
              "  </tbody>\n",
              "</table>\n",
              "</div>\n",
              "      <button class=\"colab-df-convert\" onclick=\"convertToInteractive('df-f92b4fc1-abe5-4224-bd56-497f74d18ee0')\"\n",
              "              title=\"Convert this dataframe to an interactive table.\"\n",
              "              style=\"display:none;\">\n",
              "        \n",
              "  <svg xmlns=\"http://www.w3.org/2000/svg\" height=\"24px\"viewBox=\"0 0 24 24\"\n",
              "       width=\"24px\">\n",
              "    <path d=\"M0 0h24v24H0V0z\" fill=\"none\"/>\n",
              "    <path d=\"M18.56 5.44l.94 2.06.94-2.06 2.06-.94-2.06-.94-.94-2.06-.94 2.06-2.06.94zm-11 1L8.5 8.5l.94-2.06 2.06-.94-2.06-.94L8.5 2.5l-.94 2.06-2.06.94zm10 10l.94 2.06.94-2.06 2.06-.94-2.06-.94-.94-2.06-.94 2.06-2.06.94z\"/><path d=\"M17.41 7.96l-1.37-1.37c-.4-.4-.92-.59-1.43-.59-.52 0-1.04.2-1.43.59L10.3 9.45l-7.72 7.72c-.78.78-.78 2.05 0 2.83L4 21.41c.39.39.9.59 1.41.59.51 0 1.02-.2 1.41-.59l7.78-7.78 2.81-2.81c.8-.78.8-2.07 0-2.86zM5.41 20L4 18.59l7.72-7.72 1.47 1.35L5.41 20z\"/>\n",
              "  </svg>\n",
              "      </button>\n",
              "      \n",
              "  <style>\n",
              "    .colab-df-container {\n",
              "      display:flex;\n",
              "      flex-wrap:wrap;\n",
              "      gap: 12px;\n",
              "    }\n",
              "\n",
              "    .colab-df-convert {\n",
              "      background-color: #E8F0FE;\n",
              "      border: none;\n",
              "      border-radius: 50%;\n",
              "      cursor: pointer;\n",
              "      display: none;\n",
              "      fill: #1967D2;\n",
              "      height: 32px;\n",
              "      padding: 0 0 0 0;\n",
              "      width: 32px;\n",
              "    }\n",
              "\n",
              "    .colab-df-convert:hover {\n",
              "      background-color: #E2EBFA;\n",
              "      box-shadow: 0px 1px 2px rgba(60, 64, 67, 0.3), 0px 1px 3px 1px rgba(60, 64, 67, 0.15);\n",
              "      fill: #174EA6;\n",
              "    }\n",
              "\n",
              "    [theme=dark] .colab-df-convert {\n",
              "      background-color: #3B4455;\n",
              "      fill: #D2E3FC;\n",
              "    }\n",
              "\n",
              "    [theme=dark] .colab-df-convert:hover {\n",
              "      background-color: #434B5C;\n",
              "      box-shadow: 0px 1px 3px 1px rgba(0, 0, 0, 0.15);\n",
              "      filter: drop-shadow(0px 1px 2px rgba(0, 0, 0, 0.3));\n",
              "      fill: #FFFFFF;\n",
              "    }\n",
              "  </style>\n",
              "\n",
              "      <script>\n",
              "        const buttonEl =\n",
              "          document.querySelector('#df-f92b4fc1-abe5-4224-bd56-497f74d18ee0 button.colab-df-convert');\n",
              "        buttonEl.style.display =\n",
              "          google.colab.kernel.accessAllowed ? 'block' : 'none';\n",
              "\n",
              "        async function convertToInteractive(key) {\n",
              "          const element = document.querySelector('#df-f92b4fc1-abe5-4224-bd56-497f74d18ee0');\n",
              "          const dataTable =\n",
              "            await google.colab.kernel.invokeFunction('convertToInteractive',\n",
              "                                                     [key], {});\n",
              "          if (!dataTable) return;\n",
              "\n",
              "          const docLinkHtml = 'Like what you see? Visit the ' +\n",
              "            '<a target=\"_blank\" href=https://colab.research.google.com/notebooks/data_table.ipynb>data table notebook</a>'\n",
              "            + ' to learn more about interactive tables.';\n",
              "          element.innerHTML = '';\n",
              "          dataTable['output_type'] = 'display_data';\n",
              "          await google.colab.output.renderOutput(dataTable, element);\n",
              "          const docLink = document.createElement('div');\n",
              "          docLink.innerHTML = docLinkHtml;\n",
              "          element.appendChild(docLink);\n",
              "        }\n",
              "      </script>\n",
              "    </div>\n",
              "  </div>\n",
              "  "
            ]
          },
          "metadata": {},
          "execution_count": 12
        }
      ]
    },
    {
      "cell_type": "code",
      "source": [
        "avg = pd.DataFrame(poll_df.mean())\n",
        "\n",
        "avg.drop('Number of Observations',axis = 0,inplace = True)"
      ],
      "metadata": {
        "colab": {
          "base_uri": "https://localhost:8080/"
        },
        "id": "MdiJwFu7klQv",
        "outputId": "194bac89-0b9b-4e13-bf5f-a500b8bc6538"
      },
      "execution_count": 14,
      "outputs": [
        {
          "output_type": "stream",
          "name": "stderr",
          "text": [
            "/usr/local/lib/python3.7/dist-packages/ipykernel_launcher.py:1: FutureWarning: Dropping of nuisance columns in DataFrame reductions (with 'numeric_only=None') is deprecated; in a future version this will raise TypeError.  Select only valid columns before calling the reduction.\n",
            "  \"\"\"Entry point for launching an IPython kernel.\n"
          ]
        }
      ]
    },
    {
      "cell_type": "code",
      "source": [
        "std = pd.DataFrame(poll_df.std())\n",
        "std.drop('Number of Observations',axis = 0 , inplace = True)"
      ],
      "metadata": {
        "colab": {
          "base_uri": "https://localhost:8080/"
        },
        "id": "tWKyoPRyk5mG",
        "outputId": "f9ed7707-f2e9-48f3-b9be-32b8f2ecfce7"
      },
      "execution_count": 15,
      "outputs": [
        {
          "output_type": "stream",
          "name": "stderr",
          "text": [
            "/usr/local/lib/python3.7/dist-packages/ipykernel_launcher.py:1: FutureWarning: Dropping of nuisance columns in DataFrame reductions (with 'numeric_only=None') is deprecated; in a future version this will raise TypeError.  Select only valid columns before calling the reduction.\n",
            "  \"\"\"Entry point for launching an IPython kernel.\n"
          ]
        }
      ]
    },
    {
      "cell_type": "code",
      "source": [
        "std.head()"
      ],
      "metadata": {
        "colab": {
          "base_uri": "https://localhost:8080/",
          "height": 206
        },
        "id": "4aBxgNrclfRy",
        "outputId": "7c26fa34-ed01-489c-cd9d-65a181799b59"
      },
      "execution_count": 16,
      "outputs": [
        {
          "output_type": "execute_result",
          "data": {
            "text/plain": [
              "                      0\n",
              "Obama          2.422058\n",
              "Romney         2.906180\n",
              "Undecided      3.701754\n",
              "Other          2.692726\n",
              "Question Text       NaN"
            ],
            "text/html": [
              "\n",
              "  <div id=\"df-25b1d26b-6136-46ab-b2b8-cb4d82d0464e\">\n",
              "    <div class=\"colab-df-container\">\n",
              "      <div>\n",
              "<style scoped>\n",
              "    .dataframe tbody tr th:only-of-type {\n",
              "        vertical-align: middle;\n",
              "    }\n",
              "\n",
              "    .dataframe tbody tr th {\n",
              "        vertical-align: top;\n",
              "    }\n",
              "\n",
              "    .dataframe thead th {\n",
              "        text-align: right;\n",
              "    }\n",
              "</style>\n",
              "<table border=\"1\" class=\"dataframe\">\n",
              "  <thead>\n",
              "    <tr style=\"text-align: right;\">\n",
              "      <th></th>\n",
              "      <th>0</th>\n",
              "    </tr>\n",
              "  </thead>\n",
              "  <tbody>\n",
              "    <tr>\n",
              "      <th>Obama</th>\n",
              "      <td>2.422058</td>\n",
              "    </tr>\n",
              "    <tr>\n",
              "      <th>Romney</th>\n",
              "      <td>2.906180</td>\n",
              "    </tr>\n",
              "    <tr>\n",
              "      <th>Undecided</th>\n",
              "      <td>3.701754</td>\n",
              "    </tr>\n",
              "    <tr>\n",
              "      <th>Other</th>\n",
              "      <td>2.692726</td>\n",
              "    </tr>\n",
              "    <tr>\n",
              "      <th>Question Text</th>\n",
              "      <td>NaN</td>\n",
              "    </tr>\n",
              "  </tbody>\n",
              "</table>\n",
              "</div>\n",
              "      <button class=\"colab-df-convert\" onclick=\"convertToInteractive('df-25b1d26b-6136-46ab-b2b8-cb4d82d0464e')\"\n",
              "              title=\"Convert this dataframe to an interactive table.\"\n",
              "              style=\"display:none;\">\n",
              "        \n",
              "  <svg xmlns=\"http://www.w3.org/2000/svg\" height=\"24px\"viewBox=\"0 0 24 24\"\n",
              "       width=\"24px\">\n",
              "    <path d=\"M0 0h24v24H0V0z\" fill=\"none\"/>\n",
              "    <path d=\"M18.56 5.44l.94 2.06.94-2.06 2.06-.94-2.06-.94-.94-2.06-.94 2.06-2.06.94zm-11 1L8.5 8.5l.94-2.06 2.06-.94-2.06-.94L8.5 2.5l-.94 2.06-2.06.94zm10 10l.94 2.06.94-2.06 2.06-.94-2.06-.94-.94-2.06-.94 2.06-2.06.94z\"/><path d=\"M17.41 7.96l-1.37-1.37c-.4-.4-.92-.59-1.43-.59-.52 0-1.04.2-1.43.59L10.3 9.45l-7.72 7.72c-.78.78-.78 2.05 0 2.83L4 21.41c.39.39.9.59 1.41.59.51 0 1.02-.2 1.41-.59l7.78-7.78 2.81-2.81c.8-.78.8-2.07 0-2.86zM5.41 20L4 18.59l7.72-7.72 1.47 1.35L5.41 20z\"/>\n",
              "  </svg>\n",
              "      </button>\n",
              "      \n",
              "  <style>\n",
              "    .colab-df-container {\n",
              "      display:flex;\n",
              "      flex-wrap:wrap;\n",
              "      gap: 12px;\n",
              "    }\n",
              "\n",
              "    .colab-df-convert {\n",
              "      background-color: #E8F0FE;\n",
              "      border: none;\n",
              "      border-radius: 50%;\n",
              "      cursor: pointer;\n",
              "      display: none;\n",
              "      fill: #1967D2;\n",
              "      height: 32px;\n",
              "      padding: 0 0 0 0;\n",
              "      width: 32px;\n",
              "    }\n",
              "\n",
              "    .colab-df-convert:hover {\n",
              "      background-color: #E2EBFA;\n",
              "      box-shadow: 0px 1px 2px rgba(60, 64, 67, 0.3), 0px 1px 3px 1px rgba(60, 64, 67, 0.15);\n",
              "      fill: #174EA6;\n",
              "    }\n",
              "\n",
              "    [theme=dark] .colab-df-convert {\n",
              "      background-color: #3B4455;\n",
              "      fill: #D2E3FC;\n",
              "    }\n",
              "\n",
              "    [theme=dark] .colab-df-convert:hover {\n",
              "      background-color: #434B5C;\n",
              "      box-shadow: 0px 1px 3px 1px rgba(0, 0, 0, 0.15);\n",
              "      filter: drop-shadow(0px 1px 2px rgba(0, 0, 0, 0.3));\n",
              "      fill: #FFFFFF;\n",
              "    }\n",
              "  </style>\n",
              "\n",
              "      <script>\n",
              "        const buttonEl =\n",
              "          document.querySelector('#df-25b1d26b-6136-46ab-b2b8-cb4d82d0464e button.colab-df-convert');\n",
              "        buttonEl.style.display =\n",
              "          google.colab.kernel.accessAllowed ? 'block' : 'none';\n",
              "\n",
              "        async function convertToInteractive(key) {\n",
              "          const element = document.querySelector('#df-25b1d26b-6136-46ab-b2b8-cb4d82d0464e');\n",
              "          const dataTable =\n",
              "            await google.colab.kernel.invokeFunction('convertToInteractive',\n",
              "                                                     [key], {});\n",
              "          if (!dataTable) return;\n",
              "\n",
              "          const docLinkHtml = 'Like what you see? Visit the ' +\n",
              "            '<a target=\"_blank\" href=https://colab.research.google.com/notebooks/data_table.ipynb>data table notebook</a>'\n",
              "            + ' to learn more about interactive tables.';\n",
              "          element.innerHTML = '';\n",
              "          dataTable['output_type'] = 'display_data';\n",
              "          await google.colab.output.renderOutput(dataTable, element);\n",
              "          const docLink = document.createElement('div');\n",
              "          docLink.innerHTML = docLinkHtml;\n",
              "          element.appendChild(docLink);\n",
              "        }\n",
              "      </script>\n",
              "    </div>\n",
              "  </div>\n",
              "  "
            ]
          },
          "metadata": {},
          "execution_count": 16
        }
      ]
    },
    {
      "cell_type": "code",
      "source": [
        "avg.plot( yerr = std,kind = 'bar',legend = False)"
      ],
      "metadata": {
        "colab": {
          "base_uri": "https://localhost:8080/",
          "height": 362
        },
        "id": "P2jzWJxWlh4d",
        "outputId": "e86c796f-8fa7-4324-89d6-384cb5b9ca95"
      },
      "execution_count": 17,
      "outputs": [
        {
          "output_type": "execute_result",
          "data": {
            "text/plain": [
              "<matplotlib.axes._subplots.AxesSubplot at 0x7f75add94c10>"
            ]
          },
          "metadata": {},
          "execution_count": 17
        },
        {
          "output_type": "display_data",
          "data": {
            "text/plain": [
              "<Figure size 432x288 with 1 Axes>"
            ],
            "image/png": "[encoded data removed]"
          },
          "metadata": {
            "needs_background": "light"
          }
        }
      ]
    },
    {
      "cell_type": "code",
      "source": [
        "poll_avg = pd.concat([avg,std],axis = 1)"
      ],
      "metadata": {
        "id": "lFhMUjOclubv"
      },
      "execution_count": 18,
      "outputs": []
    },
    {
      "cell_type": "code",
      "source": [
        "poll_avg.columns = ['Average', 'STD']"
      ],
      "metadata": {
        "id": "VXMJD-b4l_xe"
      },
      "execution_count": 20,
      "outputs": []
    },
    {
      "cell_type": "code",
      "source": [
        "poll_avg"
      ],
      "metadata": {
        "colab": {
          "base_uri": "https://localhost:8080/",
          "height": 237
        },
        "id": "lhbcBnJ-mBjl",
        "outputId": "85b13a8d-a922-4c67-c1b8-a1bce1de8a56"
      },
      "execution_count": 21,
      "outputs": [
        {
          "output_type": "execute_result",
          "data": {
            "text/plain": [
              "                      Average       STD\n",
              "Obama               46.805461  2.422058\n",
              "Romney              44.614334  2.906180\n",
              "Undecided            6.550827  3.701754\n",
              "Other                3.376238  2.692726\n",
              "Question Text             NaN       NaN\n",
              "Question Iteration   1.000000  0.000000"
            ],
            "text/html": [
              "\n",
              "  <div id=\"df-55aa4b02-d27a-4282-bc2a-8273b4b4231e\">\n",
              "    <div class=\"colab-df-container\">\n",
              "      <div>\n",
              "<style scoped>\n",
              "    .dataframe tbody tr th:only-of-type {\n",
              "        vertical-align: middle;\n",
              "    }\n",
              "\n",
              "    .dataframe tbody tr th {\n",
              "        vertical-align: top;\n",
              "    }\n",
              "\n",
              "    .dataframe thead th {\n",
              "        text-align: right;\n",
              "    }\n",
              "</style>\n",
              "<table border=\"1\" class=\"dataframe\">\n",
              "  <thead>\n",
              "    <tr style=\"text-align: right;\">\n",
              "      <th></th>\n",
              "      <th>Average</th>\n",
              "      <th>STD</th>\n",
              "    </tr>\n",
              "  </thead>\n",
              "  <tbody>\n",
              "    <tr>\n",
              "      <th>Obama</th>\n",
              "      <td>46.805461</td>\n",
              "      <td>2.422058</td>\n",
              "    </tr>\n",
              "    <tr>\n",
              "      <th>Romney</th>\n",
              "      <td>44.614334</td>\n",
              "      <td>2.906180</td>\n",
              "    </tr>\n",
              "    <tr>\n",
              "      <th>Undecided</th>\n",
              "      <td>6.550827</td>\n",
              "      <td>3.701754</td>\n",
              "    </tr>\n",
              "    <tr>\n",
              "      <th>Other</th>\n",
              "      <td>3.376238</td>\n",
              "      <td>2.692726</td>\n",
              "    </tr>\n",
              "    <tr>\n",
              "      <th>Question Text</th>\n",
              "      <td>NaN</td>\n",
              "      <td>NaN</td>\n",
              "    </tr>\n",
              "    <tr>\n",
              "      <th>Question Iteration</th>\n",
              "      <td>1.000000</td>\n",
              "      <td>0.000000</td>\n",
              "    </tr>\n",
              "  </tbody>\n",
              "</table>\n",
              "</div>\n",
              "      <button class=\"colab-df-convert\" onclick=\"convertToInteractive('df-55aa4b02-d27a-4282-bc2a-8273b4b4231e')\"\n",
              "              title=\"Convert this dataframe to an interactive table.\"\n",
              "              style=\"display:none;\">\n",
              "        \n",
              "  <svg xmlns=\"http://www.w3.org/2000/svg\" height=\"24px\"viewBox=\"0 0 24 24\"\n",
              "       width=\"24px\">\n",
              "    <path d=\"M0 0h24v24H0V0z\" fill=\"none\"/>\n",
              "    <path d=\"M18.56 5.44l.94 2.06.94-2.06 2.06-.94-2.06-.94-.94-2.06-.94 2.06-2.06.94zm-11 1L8.5 8.5l.94-2.06 2.06-.94-2.06-.94L8.5 2.5l-.94 2.06-2.06.94zm10 10l.94 2.06.94-2.06 2.06-.94-2.06-.94-.94-2.06-.94 2.06-2.06.94z\"/><path d=\"M17.41 7.96l-1.37-1.37c-.4-.4-.92-.59-1.43-.59-.52 0-1.04.2-1.43.59L10.3 9.45l-7.72 7.72c-.78.78-.78 2.05 0 2.83L4 21.41c.39.39.9.59 1.41.59.51 0 1.02-.2 1.41-.59l7.78-7.78 2.81-2.81c.8-.78.8-2.07 0-2.86zM5.41 20L4 18.59l7.72-7.72 1.47 1.35L5.41 20z\"/>\n",
              "  </svg>\n",
              "      </button>\n",
              "      \n",
              "  <style>\n",
              "    .colab-df-container {\n",
              "      display:flex;\n",
              "      flex-wrap:wrap;\n",
              "      gap: 12px;\n",
              "    }\n",
              "\n",
              "    .colab-df-convert {\n",
              "      background-color: #E8F0FE;\n",
              "      border: none;\n",
              "      border-radius: 50%;\n",
              "      cursor: pointer;\n",
              "      display: none;\n",
              "      fill: #1967D2;\n",
              "      height: 32px;\n",
              "      padding: 0 0 0 0;\n",
              "      width: 32px;\n",
              "    }\n",
              "\n",
              "    .colab-df-convert:hover {\n",
              "      background-color: #E2EBFA;\n",
              "      box-shadow: 0px 1px 2px rgba(60, 64, 67, 0.3), 0px 1px 3px 1px rgba(60, 64, 67, 0.15);\n",
              "      fill: #174EA6;\n",
              "    }\n",
              "\n",
              "    [theme=dark] .colab-df-convert {\n",
              "      background-color: #3B4455;\n",
              "      fill: #D2E3FC;\n",
              "    }\n",
              "\n",
              "    [theme=dark] .colab-df-convert:hover {\n",
              "      background-color: #434B5C;\n",
              "      box-shadow: 0px 1px 3px 1px rgba(0, 0, 0, 0.15);\n",
              "      filter: drop-shadow(0px 1px 2px rgba(0, 0, 0, 0.3));\n",
              "      fill: #FFFFFF;\n",
              "    }\n",
              "  </style>\n",
              "\n",
              "      <script>\n",
              "        const buttonEl =\n",
              "          document.querySelector('#df-55aa4b02-d27a-4282-bc2a-8273b4b4231e button.colab-df-convert');\n",
              "        buttonEl.style.display =\n",
              "          google.colab.kernel.accessAllowed ? 'block' : 'none';\n",
              "\n",
              "        async function convertToInteractive(key) {\n",
              "          const element = document.querySelector('#df-55aa4b02-d27a-4282-bc2a-8273b4b4231e');\n",
              "          const dataTable =\n",
              "            await google.colab.kernel.invokeFunction('convertToInteractive',\n",
              "                                                     [key], {});\n",
              "          if (!dataTable) return;\n",
              "\n",
              "          const docLinkHtml = 'Like what you see? Visit the ' +\n",
              "            '<a target=\"_blank\" href=https://colab.research.google.com/notebooks/data_table.ipynb>data table notebook</a>'\n",
              "            + ' to learn more about interactive tables.';\n",
              "          element.innerHTML = '';\n",
              "          dataTable['output_type'] = 'display_data';\n",
              "          await google.colab.output.renderOutput(dataTable, element);\n",
              "          const docLink = document.createElement('div');\n",
              "          docLink.innerHTML = docLinkHtml;\n",
              "          element.appendChild(docLink);\n",
              "        }\n",
              "      </script>\n",
              "    </div>\n",
              "  </div>\n",
              "  "
            ]
          },
          "metadata": {},
          "execution_count": 21
        }
      ]
    },
    {
      "cell_type": "code",
      "source": [],
      "metadata": {
        "id": "CbVUpRI3mKwV"
      },
      "execution_count": null,
      "outputs": []
    }
  ]
}