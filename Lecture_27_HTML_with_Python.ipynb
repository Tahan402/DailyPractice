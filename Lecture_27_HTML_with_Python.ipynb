{
  "nbformat": 4,
  "nbformat_minor": 0,
  "metadata": {
    "colab": {
      "provenance": [],
      "collapsed_sections": [],
      "authorship_tag": "ABX9TyPrInRW9NC9rHYXBhDKrT3t",
      "include_colab_link": true
    },
    "kernelspec": {
      "name": "python3",
      "display_name": "Python 3"
    },
    "language_info": {
      "name": "python"
    }
  },
  "cells": [
    {
      "cell_type": "markdown",
      "metadata": {
        "id": "view-in-github",
        "colab_type": "text"
      },
      "source": [
        "<a href=\"https://colab.research.google.com/github/Tahan402/DailyPractice/blob/main/Lecture_27_HTML_with_Python.ipynb\" target=\"_parent\"><img src=\"https://colab.research.google.com/assets/colab-badge.svg\" alt=\"Open In Colab\"/></a>"
      ]
    },
    {
      "cell_type": "code",
      "execution_count": 1,
      "metadata": {
        "id": "xU3JA-q9reMS"
      },
      "outputs": [],
      "source": [
        "import pandas as pd\n",
        "from pandas import Series,DataFrame\n"
      ]
    },
    {
      "cell_type": "code",
      "source": [
        "from pandas import read_html"
      ],
      "metadata": {
        "id": "2L8ZKr9ztaHz"
      },
      "execution_count": 2,
      "outputs": []
    },
    {
      "cell_type": "code",
      "source": [
        "url = 'http://www.fdic.gov/bank/individual/failed/banklist.html'"
      ],
      "metadata": {
        "id": "6adrRQXatd2Y"
      },
      "execution_count": 3,
      "outputs": []
    },
    {
      "cell_type": "code",
      "source": [
        " #pip install beatiful-soup\n",
        " #pip install html5lib"
      ],
      "metadata": {
        "id": "eQqoyuQFtuYB"
      },
      "execution_count": 7,
      "outputs": []
    },
    {
      "cell_type": "code",
      "source": [
        "#dframe_list = pd.io.html.read_html(url)"
      ],
      "metadata": {
        "id": "cgxr9Bj5t5Yi"
      },
      "execution_count": 9,
      "outputs": []
    },
    {
      "cell_type": "code",
      "source": [
        "#dframe = dframe_list[0]\n",
        "#dframe"
      ],
      "metadata": {
        "id": "LgdmdtEMuCVn"
      },
      "execution_count": 10,
      "outputs": []
    },
    {
      "cell_type": "code",
      "source": [],
      "metadata": {
        "id": "VZdNxMIivZBI"
      },
      "execution_count": null,
      "outputs": []
    }
  ]
}