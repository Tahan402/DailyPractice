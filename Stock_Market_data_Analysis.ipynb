{
  "nbformat": 4,
  "nbformat_minor": 0,
  "metadata": {
    "colab": {
      "provenance": [],
      "collapsed_sections": [],
      "authorship_tag": "ABX9TyNlqXkAsRm9oBhxt7kRwj0h",
      "include_colab_link": true
    },
    "kernelspec": {
      "name": "python3",
      "display_name": "Python 3"
    },
    "language_info": {
      "name": "python"
    }
  },
  "cells": [
    {
      "cell_type": "markdown",
      "metadata": {
        "id": "view-in-github",
        "colab_type": "text"
      },
      "source": [
        "<a href=\"https://colab.research.google.com/github/Tahan402/DailyPractice/blob/main/Stock_Market_data_Analysis.ipynb\" target=\"_parent\"><img src=\"https://colab.research.google.com/assets/colab-badge.svg\" alt=\"Open In Colab\"/></a>"
      ]
    },
    {
      "cell_type": "markdown",
      "source": [
        "# Data Project - Stock Market Analysis"
      ],
      "metadata": {
        "id": "nx96cPQ4d7sE"
      }
    },
    {
      "cell_type": "markdown",
      "source": [
        "Welcome to your second data project! In this portfolio project we will be looking at data from the stock market, particularly some technology stocks. We will learn how to use pandas to get stock information, visualize different aspects of it, and finally we will look at a few ways of analyzing the risk of a stock, based on its previous performance history. We will also be predicting future stock prices through a Monte Carlo method!\n",
        "\n",
        "We'll be answering the following questions along the way:\n",
        "\n",
        "1.) What was the change in price of the stock over time?\n",
        "\n",
        "\n",
        "2.) What was the daily return of the stock on average?\n",
        "\n",
        "\n",
        "3.) What was the moving average of the various stocks?\n",
        "\n",
        "\n",
        "4.) What was the correlation between different stocks' closing prices?\n",
        "\n",
        "\n",
        "5.) What was the correlation between different stocks' daily returns?\n",
        "\n",
        "\n",
        "6.) How much value do we put at risk by investing in a particular stock?\n",
        "\n",
        "\n",
        "7.) How can we attempt to predict future stock behavior?\n",
        "\n",
        "\n",
        "\n",
        "Basic Analysis of Stock Information\n",
        "\n",
        "\n",
        "In this section we'll go over how to handle requesting stock information with pandas, and how to analyze basic attributes of a stock."
      ],
      "metadata": {
        "id": "PkwJqPYyeBdJ"
      }
    },
    {
      "cell_type": "code",
      "execution_count": 2,
      "metadata": {
        "id": "tSGh4UztbvjY"
      },
      "outputs": [],
      "source": [
        "import pandas as pd\n",
        "import numpy as np"
      ]
    },
    {
      "cell_type": "code",
      "source": [
        "import matplotlib.pyplot as plt\n",
        "import seaborn as sns\n",
        "sns.set_style('whitegrid')\n",
        "%matplotlib inline"
      ],
      "metadata": {
        "id": "sWjneURzei2d"
      },
      "execution_count": 3,
      "outputs": []
    },
    {
      "cell_type": "code",
      "source": [
        "from pandas_datareader.data import DataReader\n",
        "\n",
        "from pandas_datareader import data as pdr\n",
        "\n",
        "\n",
        "import fix_yahoo_finance as yf\n",
        "yf.pdr_override()"
      ],
      "metadata": {
        "id": "tk-zvAErez8x",
        "colab": {
          "base_uri": "https://localhost:8080/",
          "height": 373
        },
        "outputId": "ba0fac29-ae89-48a6-d442-12b926d9d376"
      },
      "execution_count": 15,
      "outputs": [
        {
          "output_type": "error",
          "ename": "ModuleNotFoundError",
          "evalue": "ignored",
          "traceback": [
            "\u001b[0;31m---------------------------------------------------------------------------\u001b[0m",
            "\u001b[0;31mModuleNotFoundError\u001b[0m                       Traceback (most recent call last)",
            "\u001b[0;32m<ipython-input-15-b42d07ad3d5d>\u001b[0m in \u001b[0;36m<module>\u001b[0;34m\u001b[0m\n\u001b[1;32m      3\u001b[0m \u001b[0;32mfrom\u001b[0m \u001b[0mpandas_datareader\u001b[0m \u001b[0;32mimport\u001b[0m \u001b[0mdata\u001b[0m \u001b[0;32mas\u001b[0m \u001b[0mpdr\u001b[0m\u001b[0;34m\u001b[0m\u001b[0;34m\u001b[0m\u001b[0m\n\u001b[1;32m      4\u001b[0m \u001b[0;34m\u001b[0m\u001b[0m\n\u001b[0;32m----> 5\u001b[0;31m \u001b[0;32mfrom\u001b[0m \u001b[0myahoofinancials\u001b[0m \u001b[0;32mimport\u001b[0m \u001b[0mYahooFinancials\u001b[0m\u001b[0;34m\u001b[0m\u001b[0;34m\u001b[0m\u001b[0m\n\u001b[0m\u001b[1;32m      6\u001b[0m \u001b[0;32mimport\u001b[0m \u001b[0mfix_yahoo_finance\u001b[0m \u001b[0;32mas\u001b[0m \u001b[0myf\u001b[0m\u001b[0;34m\u001b[0m\u001b[0;34m\u001b[0m\u001b[0m\n\u001b[1;32m      7\u001b[0m \u001b[0myf\u001b[0m\u001b[0;34m.\u001b[0m\u001b[0mpdr_override\u001b[0m\u001b[0;34m(\u001b[0m\u001b[0;34m)\u001b[0m\u001b[0;34m\u001b[0m\u001b[0;34m\u001b[0m\u001b[0m\n",
            "\u001b[0;31mModuleNotFoundError\u001b[0m: No module named 'yahoofinancials'",
            "",
            "\u001b[0;31m---------------------------------------------------------------------------\u001b[0;32m\nNOTE: If your import is failing due to a missing package, you can\nmanually install dependencies using either !pip or !apt.\n\nTo view examples of installing some common dependencies, click the\n\"Open Examples\" button below.\n\u001b[0;31m---------------------------------------------------------------------------\u001b[0m\n"
          ],
          "errorDetails": {
            "actions": [
              {
                "action": "open_url",
                "actionText": "Open Examples",
                "url": "/notebooks/snippets/importing_libraries.ipynb"
              }
            ]
          }
        }
      ]
    },
    {
      "cell_type": "code",
      "source": [
        "from datetime import datetime"
      ],
      "metadata": {
        "id": "WH_Ue1rde5cK"
      },
      "execution_count": 5,
      "outputs": []
    },
    {
      "cell_type": "code",
      "source": [
        "from __future__ import division"
      ],
      "metadata": {
        "id": "y8FwgTZafdop"
      },
      "execution_count": 6,
      "outputs": []
    },
    {
      "cell_type": "code",
      "source": [
        "tech_list= ['AAPL','GOOG','MSFT','AMZN']"
      ],
      "metadata": {
        "id": "wJhvzAGxfj1d"
      },
      "execution_count": 7,
      "outputs": []
    },
    {
      "cell_type": "code",
      "source": [
        "end = datetime.now()\n",
        "\n",
        "start = datetime(end.year - 1 ,end.month,end.day)\n"
      ],
      "metadata": {
        "id": "lPPiPhphf0rn"
      },
      "execution_count": 17,
      "outputs": []
    },
    {
      "cell_type": "code",
      "source": [
        "from google.colab import drive\n",
        "drive.mount('/content/drive')"
      ],
      "metadata": {
        "colab": {
          "base_uri": "https://localhost:8080/"
        },
        "id": "oe9PhbFOgC0z",
        "outputId": "466ad742-3be0-4016-d4c2-732a2ef9cb65"
      },
      "execution_count": 18,
      "outputs": [
        {
          "output_type": "stream",
          "name": "stdout",
          "text": [
            "Mounted at /content/drive\n"
          ]
        }
      ]
    },
    {
      "cell_type": "code",
      "source": [
        "stock_df = pd.read_csv('/content/drive/My Drive/Data_Set_python/stock_px.csv')"
      ],
      "metadata": {
        "id": "_fOW-jlMgXqN"
      },
      "execution_count": 20,
      "outputs": []
    },
    {
      "cell_type": "code",
      "source": [
        "stock_df.head()"
      ],
      "metadata": {
        "colab": {
          "base_uri": "https://localhost:8080/",
          "height": 206
        },
        "id": "TqAzZG2BdbeJ",
        "outputId": "938f303f-8488-4f41-e643-8481b589c403"
      },
      "execution_count": 21,
      "outputs": [
        {
          "output_type": "execute_result",
          "data": {
            "text/plain": [
              "            Unnamed: 0    AA  AAPL    GE    IBM   JNJ  MSFT   PEP     SPX  \\\n",
              "0  1990-02-01 00:00:00  4.98  7.86  2.87  16.79  4.27  0.51  6.04  328.79   \n",
              "1  1990-02-02 00:00:00  5.04  8.00  2.87  16.89  4.37  0.51  6.09  330.92   \n",
              "2  1990-02-05 00:00:00  5.07  8.18  2.87  17.32  4.34  0.51  6.05  331.85   \n",
              "3  1990-02-06 00:00:00  5.01  8.12  2.88  17.56  4.32  0.51  6.15  329.66   \n",
              "4  1990-02-07 00:00:00  5.04  7.77  2.91  17.93  4.38  0.51  6.17  333.75   \n",
              "\n",
              "    XOM  \n",
              "0  6.12  \n",
              "1  6.24  \n",
              "2  6.25  \n",
              "3  6.23  \n",
              "4  6.33  "
            ],
            "text/html": [
              "\n",
              "  <div id=\"df-40b1b32a-b132-4a62-8201-4211a3bab878\">\n",
              "    <div class=\"colab-df-container\">\n",
              "      <div>\n",
              "<style scoped>\n",
              "    .dataframe tbody tr th:only-of-type {\n",
              "        vertical-align: middle;\n",
              "    }\n",
              "\n",
              "    .dataframe tbody tr th {\n",
              "        vertical-align: top;\n",
              "    }\n",
              "\n",
              "    .dataframe thead th {\n",
              "        text-align: right;\n",
              "    }\n",
              "</style>\n",
              "<table border=\"1\" class=\"dataframe\">\n",
              "  <thead>\n",
              "    <tr style=\"text-align: right;\">\n",
              "      <th></th>\n",
              "      <th>Unnamed: 0</th>\n",
              "      <th>AA</th>\n",
              "      <th>AAPL</th>\n",
              "      <th>GE</th>\n",
              "      <th>IBM</th>\n",
              "      <th>JNJ</th>\n",
              "      <th>MSFT</th>\n",
              "      <th>PEP</th>\n",
              "      <th>SPX</th>\n",
              "      <th>XOM</th>\n",
              "    </tr>\n",
              "  </thead>\n",
              "  <tbody>\n",
              "    <tr>\n",
              "      <th>0</th>\n",
              "      <td>1990-02-01 00:00:00</td>\n",
              "      <td>4.98</td>\n",
              "      <td>7.86</td>\n",
              "      <td>2.87</td>\n",
              "      <td>16.79</td>\n",
              "      <td>4.27</td>\n",
              "      <td>0.51</td>\n",
              "      <td>6.04</td>\n",
              "      <td>328.79</td>\n",
              "      <td>6.12</td>\n",
              "    </tr>\n",
              "    <tr>\n",
              "      <th>1</th>\n",
              "      <td>1990-02-02 00:00:00</td>\n",
              "      <td>5.04</td>\n",
              "      <td>8.00</td>\n",
              "      <td>2.87</td>\n",
              "      <td>16.89</td>\n",
              "      <td>4.37</td>\n",
              "      <td>0.51</td>\n",
              "      <td>6.09</td>\n",
              "      <td>330.92</td>\n",
              "      <td>6.24</td>\n",
              "    </tr>\n",
              "    <tr>\n",
              "      <th>2</th>\n",
              "      <td>1990-02-05 00:00:00</td>\n",
              "      <td>5.07</td>\n",
              "      <td>8.18</td>\n",
              "      <td>2.87</td>\n",
              "      <td>17.32</td>\n",
              "      <td>4.34</td>\n",
              "      <td>0.51</td>\n",
              "      <td>6.05</td>\n",
              "      <td>331.85</td>\n",
              "      <td>6.25</td>\n",
              "    </tr>\n",
              "    <tr>\n",
              "      <th>3</th>\n",
              "      <td>1990-02-06 00:00:00</td>\n",
              "      <td>5.01</td>\n",
              "      <td>8.12</td>\n",
              "      <td>2.88</td>\n",
              "      <td>17.56</td>\n",
              "      <td>4.32</td>\n",
              "      <td>0.51</td>\n",
              "      <td>6.15</td>\n",
              "      <td>329.66</td>\n",
              "      <td>6.23</td>\n",
              "    </tr>\n",
              "    <tr>\n",
              "      <th>4</th>\n",
              "      <td>1990-02-07 00:00:00</td>\n",
              "      <td>5.04</td>\n",
              "      <td>7.77</td>\n",
              "      <td>2.91</td>\n",
              "      <td>17.93</td>\n",
              "      <td>4.38</td>\n",
              "      <td>0.51</td>\n",
              "      <td>6.17</td>\n",
              "      <td>333.75</td>\n",
              "      <td>6.33</td>\n",
              "    </tr>\n",
              "  </tbody>\n",
              "</table>\n",
              "</div>\n",
              "      <button class=\"colab-df-convert\" onclick=\"convertToInteractive('df-40b1b32a-b132-4a62-8201-4211a3bab878')\"\n",
              "              title=\"Convert this dataframe to an interactive table.\"\n",
              "              style=\"display:none;\">\n",
              "        \n",
              "  <svg xmlns=\"http://www.w3.org/2000/svg\" height=\"24px\"viewBox=\"0 0 24 24\"\n",
              "       width=\"24px\">\n",
              "    <path d=\"M0 0h24v24H0V0z\" fill=\"none\"/>\n",
              "    <path d=\"M18.56 5.44l.94 2.06.94-2.06 2.06-.94-2.06-.94-.94-2.06-.94 2.06-2.06.94zm-11 1L8.5 8.5l.94-2.06 2.06-.94-2.06-.94L8.5 2.5l-.94 2.06-2.06.94zm10 10l.94 2.06.94-2.06 2.06-.94-2.06-.94-.94-2.06-.94 2.06-2.06.94z\"/><path d=\"M17.41 7.96l-1.37-1.37c-.4-.4-.92-.59-1.43-.59-.52 0-1.04.2-1.43.59L10.3 9.45l-7.72 7.72c-.78.78-.78 2.05 0 2.83L4 21.41c.39.39.9.59 1.41.59.51 0 1.02-.2 1.41-.59l7.78-7.78 2.81-2.81c.8-.78.8-2.07 0-2.86zM5.41 20L4 18.59l7.72-7.72 1.47 1.35L5.41 20z\"/>\n",
              "  </svg>\n",
              "      </button>\n",
              "      \n",
              "  <style>\n",
              "    .colab-df-container {\n",
              "      display:flex;\n",
              "      flex-wrap:wrap;\n",
              "      gap: 12px;\n",
              "    }\n",
              "\n",
              "    .colab-df-convert {\n",
              "      background-color: #E8F0FE;\n",
              "      border: none;\n",
              "      border-radius: 50%;\n",
              "      cursor: pointer;\n",
              "      display: none;\n",
              "      fill: #1967D2;\n",
              "      height: 32px;\n",
              "      padding: 0 0 0 0;\n",
              "      width: 32px;\n",
              "    }\n",
              "\n",
              "    .colab-df-convert:hover {\n",
              "      background-color: #E2EBFA;\n",
              "      box-shadow: 0px 1px 2px rgba(60, 64, 67, 0.3), 0px 1px 3px 1px rgba(60, 64, 67, 0.15);\n",
              "      fill: #174EA6;\n",
              "    }\n",
              "\n",
              "    [theme=dark] .colab-df-convert {\n",
              "      background-color: #3B4455;\n",
              "      fill: #D2E3FC;\n",
              "    }\n",
              "\n",
              "    [theme=dark] .colab-df-convert:hover {\n",
              "      background-color: #434B5C;\n",
              "      box-shadow: 0px 1px 3px 1px rgba(0, 0, 0, 0.15);\n",
              "      filter: drop-shadow(0px 1px 2px rgba(0, 0, 0, 0.3));\n",
              "      fill: #FFFFFF;\n",
              "    }\n",
              "  </style>\n",
              "\n",
              "      <script>\n",
              "        const buttonEl =\n",
              "          document.querySelector('#df-40b1b32a-b132-4a62-8201-4211a3bab878 button.colab-df-convert');\n",
              "        buttonEl.style.display =\n",
              "          google.colab.kernel.accessAllowed ? 'block' : 'none';\n",
              "\n",
              "        async function convertToInteractive(key) {\n",
              "          const element = document.querySelector('#df-40b1b32a-b132-4a62-8201-4211a3bab878');\n",
              "          const dataTable =\n",
              "            await google.colab.kernel.invokeFunction('convertToInteractive',\n",
              "                                                     [key], {});\n",
              "          if (!dataTable) return;\n",
              "\n",
              "          const docLinkHtml = 'Like what you see? Visit the ' +\n",
              "            '<a target=\"_blank\" href=https://colab.research.google.com/notebooks/data_table.ipynb>data table notebook</a>'\n",
              "            + ' to learn more about interactive tables.';\n",
              "          element.innerHTML = '';\n",
              "          dataTable['output_type'] = 'display_data';\n",
              "          await google.colab.output.renderOutput(dataTable, element);\n",
              "          const docLink = document.createElement('div');\n",
              "          docLink.innerHTML = docLinkHtml;\n",
              "          element.appendChild(docLink);\n",
              "        }\n",
              "      </script>\n",
              "    </div>\n",
              "  </div>\n",
              "  "
            ]
          },
          "metadata": {},
          "execution_count": 21
        }
      ]
    },
    {
      "cell_type": "code",
      "source": [
        "stock_df['AAPL'].describe()"
      ],
      "metadata": {
        "colab": {
          "base_uri": "https://localhost:8080/"
        },
        "id": "fll-WULmdjR5",
        "outputId": "193ff177-aa4c-4f27-8f9f-c548c3511395"
      },
      "execution_count": 22,
      "outputs": [
        {
          "output_type": "execute_result",
          "data": {
            "text/plain": [
              "count    5472.000000\n",
              "mean       57.119313\n",
              "std        88.670423\n",
              "min         3.230000\n",
              "25%         8.760000\n",
              "50%        11.990000\n",
              "75%        68.017500\n",
              "max       422.000000\n",
              "Name: AAPL, dtype: float64"
            ]
          },
          "metadata": {},
          "execution_count": 22
        }
      ]
    },
    {
      "cell_type": "code",
      "source": [
        "stock_df.info()"
      ],
      "metadata": {
        "colab": {
          "base_uri": "https://localhost:8080/"
        },
        "id": "Q8hptt9TeR1e",
        "outputId": "e5beb5b7-3d5a-40a8-c48a-60cfc945d514"
      },
      "execution_count": 23,
      "outputs": [
        {
          "output_type": "stream",
          "name": "stdout",
          "text": [
            "<class 'pandas.core.frame.DataFrame'>\n",
            "RangeIndex: 5472 entries, 0 to 5471\n",
            "Data columns (total 10 columns):\n",
            " #   Column      Non-Null Count  Dtype  \n",
            "---  ------      --------------  -----  \n",
            " 0   Unnamed: 0  5472 non-null   object \n",
            " 1   AA          5472 non-null   float64\n",
            " 2   AAPL        5472 non-null   float64\n",
            " 3   GE          5472 non-null   float64\n",
            " 4   IBM         5472 non-null   float64\n",
            " 5   JNJ         5472 non-null   float64\n",
            " 6   MSFT        5472 non-null   float64\n",
            " 7   PEP         5471 non-null   float64\n",
            " 8   SPX         5472 non-null   float64\n",
            " 9   XOM         5472 non-null   float64\n",
            "dtypes: float64(9), object(1)\n",
            "memory usage: 427.6+ KB\n"
          ]
        }
      ]
    },
    {
      "cell_type": "code",
      "source": [
        "stock_df.plot(legend = True, figsize = (10,4))"
      ],
      "metadata": {
        "colab": {
          "base_uri": "https://localhost:8080/",
          "height": 282
        },
        "id": "mByWf8pteX9V",
        "outputId": "836694b9-1a50-4bd9-d2e5-ecaad8679bb0"
      },
      "execution_count": 24,
      "outputs": [
        {
          "output_type": "execute_result",
          "data": {
            "text/plain": [
              "<matplotlib.axes._subplots.AxesSubplot at 0x7f3d370d38d0>"
            ]
          },
          "metadata": {},
          "execution_count": 24
        },
        {
          "output_type": "display_data",
          "data": {
            "text/plain": [
              "<Figure size 720x288 with 1 Axes>"
            ],
            "image/png": "[encoded data removed]"
          },
          "metadata": {
            "needs_background": "light"
          }
        }
      ]
    },
    {
      "cell_type": "code",
      "source": [
        "stock_df['AAPL'].plot(legend = True , figsize = (10,4))"
      ],
      "metadata": {
        "colab": {
          "base_uri": "https://localhost:8080/",
          "height": 282
        },
        "id": "Qf7obg0XesoG",
        "outputId": "3cde4e9f-c3fd-433a-e063-5f6c27c734fd"
      },
      "execution_count": 25,
      "outputs": [
        {
          "output_type": "execute_result",
          "data": {
            "text/plain": [
              "<matplotlib.axes._subplots.AxesSubplot at 0x7f3d36cdb590>"
            ]
          },
          "metadata": {},
          "execution_count": 25
        },
        {
          "output_type": "display_data",
          "data": {
            "text/plain": [
              "<Figure size 720x288 with 1 Axes>"
            ],
            "image/png": "[encoded data removed]"
          },
          "metadata": {
            "needs_background": "light"
          }
        }
      ]
    },
    {
      "cell_type": "code",
      "source": [],
      "metadata": {
        "id": "EIGOl625fHlj"
      },
      "execution_count": null,
      "outputs": []
    }
  ]
}